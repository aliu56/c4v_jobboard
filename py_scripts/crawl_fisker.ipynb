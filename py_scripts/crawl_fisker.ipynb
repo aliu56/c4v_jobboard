{
 "cells": [
  {
   "cell_type": "markdown",
   "metadata": {},
   "source": [
    "FISKER"
   ]
  },
  {
   "cell_type": "markdown",
   "metadata": {},
   "source": [
    "# SCRAPING"
   ]
  },
  {
   "cell_type": "code",
   "execution_count": 58,
   "metadata": {},
   "outputs": [],
   "source": [
    "import requests\n",
    "\n",
    "\n",
    "from requests import get\n",
    "\n",
    "def scrap_fisker(i):\n",
    "    # Lien de la page à scraper\n",
    "    skip = str(20 * i)\n",
    "    url = \"https://workforcenow.adp.com/mascsr/default/careercenter/public/events/staffing/v1/job-requisitions?cid=4d18d99e-9909-471d-ad01-1320c70fa0e5&timeStamp=1624631991798&lang=en_US&iccFlag=yes&eccFlag=yes&ccId=19000101_000001&locale=en_US&$skip=\"+skip+\"&$top=20\"\n",
    "\n",
    "    response = get(url)\n",
    "    source = None # Le code source de la page \n",
    "\n",
    "    if response.status_code == 200 :\n",
    "        # Si la requete s'est bien passee\n",
    "        source = response.text\n",
    "    return source\n",
    "\n",
    "source = scrap_fisker(8)\n",
    "#print(source)"
   ]
  },
  {
   "cell_type": "markdown",
   "metadata": {},
   "source": [
    "# PARSING"
   ]
  },
  {
   "cell_type": "markdown",
   "metadata": {},
   "source": [
    "ADDITIONAL FUNCTIONS"
   ]
  },
  {
   "cell_type": "markdown",
   "metadata": {},
   "source": [
    "# get_country\n",
    "get_country returns the country of a city or the country itself if it is a country \n",
    "Whatever the input language, answer is returned in english"
   ]
  },
  {
   "cell_type": "code",
   "execution_count": 59,
   "metadata": {},
   "outputs": [],
   "source": [
    "from geopy.geocoders import Nominatim\n",
    " \n",
    "geolocator = Nominatim(user_agent = \"geoapiExercises\")\n",
    "\n",
    "def get_country(place):\n",
    "    res = str(geolocator.geocode(place, language = \"en\"))\n",
    "    country = res.split(',')[-1]\n",
    "    return country"
   ]
  },
  {
   "cell_type": "code",
   "execution_count": 60,
   "metadata": {},
   "outputs": [
    {
     "name": "stdout",
     "output_type": "stream",
     "text": [
      "[{'itemID': '9151435223985_1', 'postingInstructions': [], 'links': [], 'additionalProperties': {}, 'requisitionTitle': 'ANDROID SYSTEM ENGINEER', 'postDate': '2021-05-26T18:46:00.000-04:00', 'screeningRequirements': [], 'organizationalUnits': [], 'workLevelCode': {'shortName': 'Full Time'}, 'sponsoredVisaTypeCodes': [], 'customFieldGroup': {'dateFields': [{'dateValue': '2021-05-26T18:46Z', 'nameCode': {'codeValue': 'PostingDate'}}, {'dateValue': '2021-06-25T12:47Z', 'nameCode': {'codeValue': 'CurrentServerDateTime'}}], 'indicatorFields': [{'indicatorValue': False, 'nameCode': {'codeValue': 'PriortyStatusFlag'}}, {'indicatorValue': False, 'nameCode': {'codeValue': 'InternalPostingFlag'}}, {'indicatorValue': True, 'nameCode': {'codeValue': 'MinValue'}}, {'indicatorValue': True, 'nameCode': {'codeValue': 'IsVsidApplicable'}}, {'indicatorValue': False, 'nameCode': {'codeValue': 'IsSassDlReqForExtPostFlag'}}, {'indicatorValue': False, 'nameCode': {'codeValue': 'IsSassDlReqForIntPostFlag'}}], 'numberFields': [{'numberValue': 0.0, 'categoryCode': {'codeValue': 'ApplicantCount'}}], 'stringFields': [{'stringValue': '329942', 'nameCode': {'codeValue': 'ExternalJobID'}}, {'nameCode': {'codeValue': 'CareerCenterRefId'}}, {'stringValue': '', 'nameCode': {'codeValue': 'HomeDepartment'}}, {'stringValue': 'Professional', 'nameCode': {'codeValue': 'JobClass'}}]}, 'clientRequisitionID': '1006', 'requisitionLocations': [{'aliasNames': [], 'address': {'cityName': 'Manhattan Beach', 'countrySubdivisionLevel1': {'codeValue': 'CA'}, 'postalCode': '90266'}, 'nameCode': {'shortName': ' Manhattan Beach, CA, US'}}, {'aliasNames': [], 'address': {'cityName': 'San Francisco', 'countrySubdivisionLevel1': {'codeValue': 'CA'}, 'postalCode': '94110'}, 'nameCode': {'shortName': ' San Francisco, CA, US'}}]}]\n"
     ]
    }
   ],
   "source": [
    "import json\n",
    "\n",
    "positions_int = json.loads(source)\n",
    "\n",
    "positions = positions_int['jobRequisitions']\n",
    "\n",
    "print(positions)\n",
    "\n",
    "#print(len(positions))"
   ]
  },
  {
   "cell_type": "code",
   "execution_count": 61,
   "metadata": {
    "scrolled": true
   },
   "outputs": [
    {
     "name": "stdout",
     "output_type": "stream",
     "text": [
      "{'itemID': '9151435223985_1', 'postingInstructions': [], 'links': [], 'additionalProperties': {}, 'requisitionTitle': 'ANDROID SYSTEM ENGINEER', 'postDate': '2021-05-26T18:46:00.000-04:00', 'screeningRequirements': [], 'organizationalUnits': [], 'workLevelCode': {'shortName': 'Full Time'}, 'sponsoredVisaTypeCodes': [], 'customFieldGroup': {'dateFields': [{'dateValue': '2021-05-26T18:46Z', 'nameCode': {'codeValue': 'PostingDate'}}, {'dateValue': '2021-06-25T12:47Z', 'nameCode': {'codeValue': 'CurrentServerDateTime'}}], 'indicatorFields': [{'indicatorValue': False, 'nameCode': {'codeValue': 'PriortyStatusFlag'}}, {'indicatorValue': False, 'nameCode': {'codeValue': 'InternalPostingFlag'}}, {'indicatorValue': True, 'nameCode': {'codeValue': 'MinValue'}}, {'indicatorValue': True, 'nameCode': {'codeValue': 'IsVsidApplicable'}}, {'indicatorValue': False, 'nameCode': {'codeValue': 'IsSassDlReqForExtPostFlag'}}, {'indicatorValue': False, 'nameCode': {'codeValue': 'IsSassDlReqForIntPostFlag'}}], 'numberFields': [{'numberValue': 0.0, 'categoryCode': {'codeValue': 'ApplicantCount'}}], 'stringFields': [{'stringValue': '329942', 'nameCode': {'codeValue': 'ExternalJobID'}}, {'nameCode': {'codeValue': 'CareerCenterRefId'}}, {'stringValue': '', 'nameCode': {'codeValue': 'HomeDepartment'}}, {'stringValue': 'Professional', 'nameCode': {'codeValue': 'JobClass'}}]}, 'clientRequisitionID': '1006', 'requisitionLocations': [{'aliasNames': [], 'address': {'cityName': 'Manhattan Beach', 'countrySubdivisionLevel1': {'codeValue': 'CA'}, 'postalCode': '90266'}, 'nameCode': {'shortName': ' Manhattan Beach, CA, US'}}, {'aliasNames': [], 'address': {'cityName': 'San Francisco', 'countrySubdivisionLevel1': {'codeValue': 'CA'}, 'postalCode': '94110'}, 'nameCode': {'shortName': ' San Francisco, CA, US'}}]}\n",
      "ANDROID SYSTEM ENGINEER\n",
      "United States\n",
      "the city is: Manhattan Beach\n"
     ]
    }
   ],
   "source": [
    "database = [['job_name', 'country', 'city', 'offer_link']]\n",
    "\n",
    "\n",
    "for position in positions:\n",
    "    if position == []:\n",
    "        print(\"______________\")\n",
    "    \n",
    "    print(position)\n",
    "    \n",
    "#     #JOB_NAME\n",
    "    job_name = position['requisitionTitle']\n",
    "    print(job_name)        \n",
    "    \n",
    "    # COUNTRY / CITY\n",
    "    city = position['requisitionLocations'][0]['address']['cityName'].strip(' \\n\\t')\n",
    "    country = get_country(city).strip(' \\n\\t')\n",
    "    print(country)\n",
    "    print('the city is: '+ city)\n",
    "    \n",
    "    # OFFER_LINK\n",
    "    offer_url = 'lien du site'\n",
    "\n",
    "    database.append([job_name, country, city, offer_url])"
   ]
  },
  {
   "cell_type": "code",
   "execution_count": 62,
   "metadata": {},
   "outputs": [
    {
     "name": "stdout",
     "output_type": "stream",
     "text": [
      "[['job_name', 'country', 'city', 'offer_link'], ['ANDROID SYSTEM ENGINEER', 'United States', 'Manhattan Beach', 'lien du site']]\n",
      "1\n"
     ]
    }
   ],
   "source": [
    "print(database)\n",
    "print(len(database)-1)"
   ]
  }
 ],
 "metadata": {
  "kernelspec": {
   "display_name": "Python 3",
   "language": "python",
   "name": "python3"
  },
  "language_info": {
   "codemirror_mode": {
    "name": "ipython",
    "version": 3
   },
   "file_extension": ".py",
   "mimetype": "text/x-python",
   "name": "python",
   "nbconvert_exporter": "python",
   "pygments_lexer": "ipython3",
   "version": "3.8.5"
  }
 },
 "nbformat": 4,
 "nbformat_minor": 4
}
