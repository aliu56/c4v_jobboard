{
 "cells": [
  {
   "cell_type": "code",
   "execution_count": 1,
   "metadata": {},
   "outputs": [],
   "source": [
    "# https://anaconda.org/conda-forge/nest-asyncio\n",
    "import nest_asyncio\n",
    "nest_asyncio.apply()\n",
    "\n"
   ]
  },
  {
   "cell_type": "code",
   "execution_count": 2,
   "metadata": {},
   "outputs": [],
   "source": [
    "\n",
    "import asyncio\n",
    "from playwright.async_api import async_playwright\n"
   ]
  },
  {
   "cell_type": "code",
   "execution_count": 20,
   "metadata": {
    "scrolled": true
   },
   "outputs": [
    {
     "name": "stdout",
     "output_type": "stream",
     "text": [
      "<html><head><title>angel.co</title><script src=\"/cdn-cgi/apps/head/v3Y6PDaKW3Klrhkz3hnr6rJFe4k.js\"></script><style>#cmsg{animation: A 1.5s;}@keyframes A{0%{opacity:0;}99%{opacity:0;}100%{opacity:1;}}</style><script async=\"\" src=\"/cdn-cgi/bm/cv/669835187/api.js\"></script><link rel=\"preload\" as=\"script\" href=\"https://ct.captcha-delivery.com/c.js\"></head><body style=\"margin:0\"><p id=\"cmsg\">Please enable JS and disable any ad blocker</p><script type=\"text/javascript\">var dd={'cid':'AHrlqAAAAAMAIvac4HjT8osAVvI2kg==','hsh':'BA3EB296E8BE96A496929870E20CD4','t':'fe','s':23647,'host':'geo.captcha-delivery.com'}</script><script src=\"https://ct.captcha-delivery.com/c.js\" type=\"text/javascript\"></script><!--<script src=\"https://ct.captcha-delivery.com/c.js\" type=\"text/javascript\"></script>--><script type=\"text/javascript\">(function(){window['__CF$cv$params']={r:'667646166d50eddf',m:'6b9783746ff1be09da4cc9d99942434ba6d73f63-1625044355-1800-AS1Dzr9r+1JbOYJD9BRWi7OElu6HedNAbNK6G2kNRl6ifcP33tCK1gPw0KyksGAEtjSydCDrPiT6aYBpUzwHIsKkqVXGmvdiZnOSLmUwtHTdqlAXHqm9N5ngayiRzJoJPCNi9hu+2t/lnDpc+1Y2I/k=',s:[0x9675cee9a0,0x57424ba4cf],}})();</script>\n",
      "</body></html>\n"
     ]
    }
   ],
   "source": [
    "\n",
    "async def main():\n",
    "    async with async_playwright() as p:\n",
    "        browser = await p.chromium.launch(headless=False)\n",
    "        context = await browser.new_context(\n",
    "  user_agent='Mozilla/5.0 (Macintosh; Intel Mac OS X 10_15_7) AppleWebKit/537.36 (KHTML, like Gecko) Chrome/91.0.4472.114 Safari/537.36'\n",
    ")\n",
    "        page = await browser.new_page()\n",
    "        await page.goto('https://angel.co/company/beam-app-1')\n",
    "        print(await page.content())\n",
    "        html = page.content()\n",
    "        await browser.close()\n",
    "\n",
    "asyncio.run(main())\n"
   ]
  },
  {
   "cell_type": "code",
   "execution_count": null,
   "metadata": {},
   "outputs": [],
   "source": [
    "async with async_playwright() as p:\n",
    "    browser = await p.chromium.launch(headless=False)\n",
    "    context = await browser.new_context(\n",
    "user_agent='Mozilla/5.0 (Macintosh; Intel Mac OS X 10_15_7) AppleWebKit/537.36 (KHTML, like Gecko) Chrome/91.0.4472.114 Safari/537.36'\n",
    ")\n",
    "    page = await browser.new_page()\n",
    "    await page.goto('https://angel.co/company/beam-app-1')\n",
    "    print(await page.content())\n",
    "    html = page.content()\n",
    "    await browser.close()"
   ]
  },
  {
   "cell_type": "code",
   "execution_count": 12,
   "metadata": {},
   "outputs": [
    {
     "ename": "NameError",
     "evalue": "name 'html' is not defined",
     "output_type": "error",
     "traceback": [
      "\u001b[0;31m---------------------------------------------------------------------------\u001b[0m",
      "\u001b[0;31mNameError\u001b[0m                                 Traceback (most recent call last)",
      "\u001b[0;32m<ipython-input-12-90ae610a654b>\u001b[0m in \u001b[0;36m<module>\u001b[0;34m\u001b[0m\n\u001b[0;32m----> 1\u001b[0;31m \u001b[0mprint\u001b[0m\u001b[0;34m(\u001b[0m\u001b[0mhtml\u001b[0m\u001b[0;34m)\u001b[0m\u001b[0;34m\u001b[0m\u001b[0;34m\u001b[0m\u001b[0m\n\u001b[0m",
      "\u001b[0;31mNameError\u001b[0m: name 'html' is not defined"
     ]
    }
   ],
   "source": [
    "print(html)"
   ]
  },
  {
   "cell_type": "code",
   "execution_count": 7,
   "metadata": {},
   "outputs": [
    {
     "name": "stdout",
     "output_type": "stream",
     "text": [
      "Beam (app) | AngelList Talent\n"
     ]
    }
   ],
   "source": [
    "html_waiting = \""
   ]
  }
 ],
 "metadata": {
  "kernelspec": {
   "display_name": "Python 3",
   "language": "python",
   "name": "python3"
  },
  "language_info": {
   "codemirror_mode": {
    "name": "ipython",
    "version": 3
   },
   "file_extension": ".py",
   "mimetype": "text/x-python",
   "name": "python",
   "nbconvert_exporter": "python",
   "pygments_lexer": "ipython3",
   "version": "3.8.5"
  }
 },
 "nbformat": 4,
 "nbformat_minor": 4
}
