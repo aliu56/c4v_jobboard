{
 "cells": [
  {
   "cell_type": "markdown",
   "metadata": {},
   "source": [
    "ProcureAI"
   ]
  },
  {
   "cell_type": "markdown",
   "metadata": {},
   "source": [
    "# SCRAPING"
   ]
  },
  {
   "cell_type": "code",
   "execution_count": 4,
   "metadata": {},
   "outputs": [
    {
     "name": "stdout",
     "output_type": "stream",
     "text": [
      "{\"total\":2,\"results\":[{\"id\":1763869,\"shortcode\":\"8B2B375606\",\"title\":\"Chief of Staff (Internship) 💻📈\",\"remote\":true,\"location\":{\"country\":null,\"countryCode\":null,\"city\":null,\"region\":null},\"state\":\"published\",\"isInternal\":false,\"code\":\"\",\"published\":\"2021-05-25T00:00:00.000Z\",\"type\":\"full\",\"language\":\"en\",\"department\":[],\"accountUid\":\"646e8565-8a10-4a3b-8af9-a2e43b8afd57\",\"approvalStatus\":\"approved\"},{\"id\":1752318,\"shortcode\":\"630DD375E7\",\"title\":\"Senior Data Analyst 📊⌨️ (Freelance)\",\"remote\":true,\"location\":{\"country\":\"Germany\",\"countryCode\":\"DE\",\"city\":\"\",\"region\":null},\"state\":\"published\",\"isInternal\":false,\"code\":\"\",\"published\":\"2021-05-18T00:00:00.000Z\",\"type\":\"full\",\"language\":\"en\",\"department\":[],\"accountUid\":\"646e8565-8a10-4a3b-8af9-a2e43b8afd57\",\"approvalStatus\":\"approved\"}]}\n"
     ]
    }
   ],
   "source": [
    "import requests\n",
    "from requests import post\n",
    "\n",
    "# Lien de la page à scraper\n",
    "#url = \"https://apply.workable.com/procureai/\"\n",
    "url = \"https://apply.workable.com/api/v3/accounts/procureai/jobs\"\n",
    "\n",
    "response = post(url)\n",
    "source = None # Le code source de la page \n",
    "\n",
    "if response.status_code == 200 :\n",
    "    # Si la requete s'est bien passee\n",
    "    source = response.text\n",
    "    \n",
    "print(source)"
   ]
  },
  {
   "cell_type": "markdown",
   "metadata": {},
   "source": [
    "# PARSING"
   ]
  },
  {
   "cell_type": "markdown",
   "metadata": {},
   "source": [
    "ADDITIONAL FUNCTIONS"
   ]
  },
  {
   "cell_type": "markdown",
   "metadata": {},
   "source": [
    "# get_country\n",
    "get_country returns the country of a city or the country itself if it is a country \n",
    "Whatever the input language, answer is returned in english"
   ]
  },
  {
   "cell_type": "code",
   "execution_count": 13,
   "metadata": {},
   "outputs": [],
   "source": [
    "from geopy.geocoders import Nominatim\n",
    " \n",
    "geolocator = Nominatim(user_agent = \"geoapiExercises\")\n",
    "\n",
    "def get_country(place):\n",
    "    res = str(geolocator.geocode(place, language = \"en\"))\n",
    "    country = res.split(',')[-1]\n",
    "    return country"
   ]
  },
  {
   "cell_type": "code",
   "execution_count": 7,
   "metadata": {},
   "outputs": [
    {
     "name": "stdout",
     "output_type": "stream",
     "text": [
      "[{'id': 1763869, 'shortcode': '8B2B375606', 'title': 'Chief of Staff (Internship) 💻📈', 'remote': True, 'location': {'country': None, 'countryCode': None, 'city': None, 'region': None}, 'state': 'published', 'isInternal': False, 'code': '', 'published': '2021-05-25T00:00:00.000Z', 'type': 'full', 'language': 'en', 'department': [], 'accountUid': '646e8565-8a10-4a3b-8af9-a2e43b8afd57', 'approvalStatus': 'approved'}, {'id': 1752318, 'shortcode': '630DD375E7', 'title': 'Senior Data Analyst 📊⌨️ (Freelance)', 'remote': True, 'location': {'country': 'Germany', 'countryCode': 'DE', 'city': '', 'region': None}, 'state': 'published', 'isInternal': False, 'code': '', 'published': '2021-05-18T00:00:00.000Z', 'type': 'full', 'language': 'en', 'department': [], 'accountUid': '646e8565-8a10-4a3b-8af9-a2e43b8afd57', 'approvalStatus': 'approved'}]\n",
      "{'id': 1763869, 'shortcode': '8B2B375606', 'title': 'Chief of Staff (Internship) 💻📈', 'remote': True, 'location': {'country': None, 'countryCode': None, 'city': None, 'region': None}, 'state': 'published', 'isInternal': False, 'code': '', 'published': '2021-05-25T00:00:00.000Z', 'type': 'full', 'language': 'en', 'department': [], 'accountUid': '646e8565-8a10-4a3b-8af9-a2e43b8afd57', 'approvalStatus': 'approved'}\n"
     ]
    }
   ],
   "source": [
    "import json\n",
    "\n",
    "positions_int = json.loads(source)\n",
    "\n",
    "positions = positions_int['results']\n",
    "\n",
    "print(positions)"
   ]
  },
  {
   "cell_type": "code",
   "execution_count": 24,
   "metadata": {
    "scrolled": true
   },
   "outputs": [],
   "source": [
    "database = [['job_name', 'country', 'city', 'offer_url']]\n",
    "\n",
    "for position in positions:\n",
    "    #print(\"______________\")\n",
    "    #print(position)\n",
    "    \n",
    "    #JOB_NAME\n",
    "    job_name = position['title']\n",
    "\n",
    "    # COUNTRY / CITY\n",
    "    location = position['location']\n",
    "    if location['country'] == None: \n",
    "        country = 'Unknown'\n",
    "        city = 'Unknown'\n",
    "    \n",
    "    else:\n",
    "        country = get_country(location['country'])\n",
    "        if location['city'] == None or location['city'] == '':\n",
    "            city = 'Unknown'\n",
    "        else: \n",
    "            city = location['city']\n",
    "    \n",
    "    # OFFER_LINK  \n",
    "    offer_url = \"https://apply.workable.com/\" + \"procureai\"+ \"/j/\" + position['shortcode']\n",
    "#    print(offer_url)\n",
    "\n",
    "    database.append([job_name, country, city, offer_url])"
   ]
  },
  {
   "cell_type": "code",
   "execution_count": 25,
   "metadata": {},
   "outputs": [
    {
     "name": "stdout",
     "output_type": "stream",
     "text": [
      "[['job_name', 'country', 'city', 'offer_url'], ['Chief of Staff (Internship) 💻📈', 'Unknown', 'Unknown', 'https://apply.workable.com/procureai/j/8B2B375606'], ['Senior Data Analyst 📊⌨️ (Freelance)', 'Germany', 'Unknown', 'https://apply.workable.com/procureai/j/630DD375E7']]\n",
      "2\n"
     ]
    }
   ],
   "source": [
    "print(database)\n",
    "print(len(database)-1)"
   ]
  }
 ],
 "metadata": {
  "kernelspec": {
   "display_name": "Python 3",
   "language": "python",
   "name": "python3"
  },
  "language_info": {
   "codemirror_mode": {
    "name": "ipython",
    "version": 3
   },
   "file_extension": ".py",
   "mimetype": "text/x-python",
   "name": "python",
   "nbconvert_exporter": "python",
   "pygments_lexer": "ipython3",
   "version": "3.8.5"
  }
 },
 "nbformat": 4,
 "nbformat_minor": 4
}
